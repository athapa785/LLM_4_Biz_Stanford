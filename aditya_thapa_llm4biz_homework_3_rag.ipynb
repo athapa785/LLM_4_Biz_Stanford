{
  "cells": [
    {
      "cell_type": "markdown",
      "metadata": {
        "id": "view-in-github",
        "colab_type": "text"
      },
      "source": [
        "<a href=\"https://colab.research.google.com/github/athapa785/LLM_4_Biz_Stanford/blob/main/aditya_thapa_llm4biz_homework_3_rag.ipynb\" target=\"_parent\"><img src=\"https://colab.research.google.com/assets/colab-badge.svg\" alt=\"Open In Colab\"/></a>"
      ]
    },
    {
      "cell_type": "markdown",
      "metadata": {
        "id": "wlTEp7SQNJdV"
      },
      "source": [
        "# Aditya Thapa\n",
        "\n",
        "SLAC National Accelerator Laboratory | Stanford University"
      ]
    },
    {
      "cell_type": "markdown",
      "metadata": {
        "id": "CkBcMjlUNLcl"
      },
      "source": [
        "# Homework 3: Retrieval Augumented Generation (RAG) with Llama-index\n",
        "## LLM for Biz with Python"
      ]
    },
    {
      "cell_type": "markdown",
      "metadata": {
        "id": "VfWSunkDmq3A"
      },
      "source": [
        "This project leverages the Llama Index library to build a Retrieval Augmented Generation (RAG) system for querying information from various sources. It showcases how to load data from different document types, create a chatbot interface, and enhance responses using vector databases and external knowledge sources like Arxiv and YouTube transcripts.\n",
        "\n",
        "**Key functionalities implemented**:\n",
        "\n",
        "**Chatbot Interaction:**\n",
        "Creates a chatbot using as_chat_engine for interactive querying.\n",
        "Allows users to ask questions and receive relevant responses.\n",
        "Maintains chat history for context.\n",
        "\n",
        "**Vector Databases:**\n",
        "Integrates with ChromaDB to store and retrieve vector embeddings of the documents, improving search performance.\n",
        "Uses ChromaVectorStore for interacting with the vector database.\n",
        "\n",
        "**Knowledge Augmentation:**\n",
        "Specifically leverages Arxiv for retrieving information on high-energy astrophysics.\n",
        "Uses YouTube transcripts to answer questions about James Webb Space Telescope (JWST) discoveries."
      ]
    },
    {
      "cell_type": "code",
      "execution_count": 1,
      "metadata": {
        "colab": {
          "base_uri": "https://localhost:8080/"
        },
        "id": "0NuZtc_0b4qN",
        "outputId": "c067f3b1-0b5d-45b1-b2a4-c640483deafc"
      },
      "outputs": [
        {
          "output_type": "stream",
          "name": "stdout",
          "text": [
            "--2025-02-18 19:57:30--  https://www.commerce.gov/sites/default/files/2025-01/2021-2024-Space-Accomplishments.pdf\n",
            "Resolving www.commerce.gov (www.commerce.gov)... 172.65.90.24, 172.65.90.27, 172.65.90.26, ...\n",
            "Connecting to www.commerce.gov (www.commerce.gov)|172.65.90.24|:443... connected.\n",
            "HTTP request sent, awaiting response... 200 OK\n",
            "Length: 2184033 (2.1M) [application/pdf]\n",
            "Saving to: ‘2021-2024-Space-Accomplishments.pdf’\n",
            "\n",
            "2021-2024-Space-Acc 100%[===================>]   2.08M   215KB/s    in 18s     \n",
            "\n",
            "2025-02-18 19:57:53 (119 KB/s) - ‘2021-2024-Space-Accomplishments.pdf’ saved [2184033/2184033]\n",
            "\n"
          ]
        }
      ],
      "source": [
        "!wget https://www.commerce.gov/sites/default/files/2025-01/2021-2024-Space-Accomplishments.pdf"
      ]
    },
    {
      "cell_type": "code",
      "execution_count": 2,
      "metadata": {
        "id": "4i2afRAxb9Wp"
      },
      "outputs": [],
      "source": [
        "%%capture\n",
        "!pip install llama-index --upgrade"
      ]
    },
    {
      "cell_type": "code",
      "execution_count": 3,
      "metadata": {
        "id": "Zyk5VKFXcOtv"
      },
      "outputs": [],
      "source": [
        "%%capture\n",
        "!pip install pypdf"
      ]
    },
    {
      "cell_type": "code",
      "execution_count": 4,
      "metadata": {
        "id": "5iXmQ1mleum5"
      },
      "outputs": [],
      "source": [
        "# Initialize key and client\n",
        "\n",
        "from openai import OpenAI\n",
        "from google.colab import userdata\n",
        "\n",
        "open_ai_key = userdata.get('open_ai_key')\n",
        "\n",
        "client = OpenAI(api_key=open_ai_key)"
      ]
    },
    {
      "cell_type": "code",
      "execution_count": 5,
      "metadata": {
        "id": "ELIrpJk7cTKL"
      },
      "outputs": [],
      "source": [
        "import os\n",
        "os.environ[\"OPENAI_API_KEY\"] = open_ai_key"
      ]
    },
    {
      "cell_type": "code",
      "execution_count": 6,
      "metadata": {
        "id": "ZfIHyUDIfMYb"
      },
      "outputs": [],
      "source": [
        "from IPython.display import Markdown"
      ]
    },
    {
      "cell_type": "code",
      "execution_count": 7,
      "metadata": {
        "colab": {
          "base_uri": "https://localhost:8080/"
        },
        "id": "bSOUcJKBcVl7",
        "outputId": "329e48ff-0c71-4049-f88e-b9877e736888"
      },
      "outputs": [
        {
          "output_type": "stream",
          "name": "stderr",
          "text": [
            "Loading files: 100%|██████████| 1/1 [00:02<00:00,  2.06s/file]\n"
          ]
        }
      ],
      "source": [
        "# Import necessary classes from the llama_index package\n",
        "from llama_index.core import VectorStoreIndex, SimpleDirectoryReader\n",
        "\n",
        "# Read documents from the specified directory and load a specific document\n",
        "documents = SimpleDirectoryReader(\"./\").load_data(\"2021-2024-Space-Accomplishments.pdf\")\n",
        "\n",
        "# Create a VectorStoreIndex object from the documents. This will involve processing the documents\n",
        "# and creating a vector representation for each of them, suitable for semantic searching.\n",
        "index = VectorStoreIndex.from_documents(documents)"
      ]
    },
    {
      "cell_type": "markdown",
      "metadata": {
        "id": "y2epi3R2ifr_"
      },
      "source": [
        "# Make a chatbot"
      ]
    },
    {
      "cell_type": "code",
      "execution_count": 8,
      "metadata": {
        "id": "6rvR7MVsfHMk",
        "colab": {
          "base_uri": "https://localhost:8080/",
          "height": 98
        },
        "outputId": "283cf210-8e13-4599-d89c-e152cfe48377"
      },
      "outputs": [
        {
          "output_type": "execute_result",
          "data": {
            "text/plain": [
              "<IPython.core.display.Markdown object>"
            ],
            "text/markdown": "Some recent space accomplishments include leveraging commercial space capabilities for weather observation, fostering diversity and opportunity in the space industry, measuring the U.S. space economy, and supporting space-related intellectual property. These achievements involve initiatives such as improving weather forecasts through commercial satellite data buys, promoting diversity and inclusion in the space industry, quantifying the U.S. space economy's contributions, and supporting commercial space innovation through intellectual property initiatives."
          },
          "metadata": {},
          "execution_count": 8
        }
      ],
      "source": [
        "chat_engine = index.as_chat_engine()\n",
        "response = chat_engine.chat(\"What are some of the recent space accomplishments?\")\n",
        "Markdown(response.response)"
      ]
    },
    {
      "cell_type": "code",
      "execution_count": 9,
      "metadata": {
        "id": "8XM0kK2khXtl",
        "colab": {
          "base_uri": "https://localhost:8080/",
          "height": 64
        },
        "outputId": "980325bc-5666-42b8-f85a-fc5f041165a0"
      },
      "outputs": [
        {
          "output_type": "execute_result",
          "data": {
            "text/plain": [
              "<IPython.core.display.Markdown object>"
            ],
            "text/markdown": "NOAA has made various commercial satellite data buys to enhance its weather forecasts, including placing seven data orders for radio occultation satellite data. Additionally, NOAA bought commercial satellite data for space weather, ocean surface winds, and microwave sounding evaluations."
          },
          "metadata": {},
          "execution_count": 9
        }
      ],
      "source": [
        "response = chat_engine.chat(\"Are there any updates on weather observations?\")\n",
        "Markdown(response.response)"
      ]
    },
    {
      "cell_type": "code",
      "execution_count": 10,
      "metadata": {
        "id": "NKNl50dMh26J",
        "colab": {
          "base_uri": "https://localhost:8080/"
        },
        "outputId": "c8531573-b577-4ae6-cd5b-ce327a173cc2"
      },
      "outputs": [
        {
          "output_type": "stream",
          "name": "stdout",
          "text": [
            "user: What are some of the recent space accomplishments?\n",
            "assistant: None\n",
            "tool: Recent space accomplishments include leveraging commercial space capabilities for weather observation, fostering diversity and opportunity in the space industry, measuring the U.S. space economy, and supporting space-related intellectual property. These achievements involve initiatives such as improving weather forecasts through commercial satellite data buys, promoting diversity and inclusion in the space industry, quantifying the U.S. space economy's contributions, and supporting commercial space innovation through intellectual property initiatives.\n",
            "assistant: Some recent space accomplishments include leveraging commercial space capabilities for weather observation, fostering diversity and opportunity in the space industry, measuring the U.S. space economy, and supporting space-related intellectual property. These achievements involve initiatives such as improving weather forecasts through commercial satellite data buys, promoting diversity and inclusion in the space industry, quantifying the U.S. space economy's contributions, and supporting commercial space innovation through intellectual property initiatives.\n",
            "user: Are there any updates on weather observations?\n",
            "assistant: None\n",
            "tool: NOAA made various commercial satellite data buys to enhance its weather forecasts, including placing seven data orders for radio occultation satellite data. Additionally, NOAA bought commercial satellite data for space weather, ocean surface winds, and microwave sounding evaluations.\n",
            "assistant: NOAA has made various commercial satellite data buys to enhance its weather forecasts, including placing seven data orders for radio occultation satellite data. Additionally, NOAA bought commercial satellite data for space weather, ocean surface winds, and microwave sounding evaluations.\n"
          ]
        }
      ],
      "source": [
        "for chat in chat_engine.chat_history:\n",
        "  print(chat)"
      ]
    },
    {
      "cell_type": "markdown",
      "metadata": {
        "id": "y4jkh7QxkDFm"
      },
      "source": [
        "# Let's do this with proper chunking"
      ]
    },
    {
      "cell_type": "code",
      "execution_count": 11,
      "metadata": {
        "id": "qRq16krYjk97"
      },
      "outputs": [],
      "source": [
        "from llama_index.core import Settings\n",
        "\n",
        "Settings.chunk_size = 5000\n",
        "Settings.chunk_overlap = 500"
      ]
    },
    {
      "cell_type": "code",
      "execution_count": 12,
      "metadata": {
        "id": "BIWl4r5pkX6u"
      },
      "outputs": [],
      "source": [
        "# Create a VectorStoreIndex object from the documents. This will involve processing the documents\n",
        "# and creating a vector representation for each of them, suitable for semantic searching.\n",
        "index = VectorStoreIndex.from_documents(documents)"
      ]
    },
    {
      "cell_type": "code",
      "execution_count": 13,
      "metadata": {
        "id": "RScEL2NikbQq"
      },
      "outputs": [],
      "source": [
        "chat_engine = index.as_chat_engine()"
      ]
    },
    {
      "cell_type": "code",
      "execution_count": 14,
      "metadata": {
        "id": "2CBY5ZJalm4m",
        "colab": {
          "base_uri": "https://localhost:8080/",
          "height": 98
        },
        "outputId": "c2a4f93b-335a-4980-8630-e9bc222a61c2"
      },
      "outputs": [
        {
          "output_type": "execute_result",
          "data": {
            "text/plain": [
              "<IPython.core.display.Markdown object>"
            ],
            "text/markdown": "The most recent accomplishments in the space sector include leveraging commercial space capabilities for weather observation, fostering diversity and opportunity in the space industry, measuring the U.S. space economy, and supporting space-related intellectual property. These achievements highlight advancements in weather forecasting accuracy, efforts to promote diversity and inclusion in the space workforce, quantifying the contributions of the space economy, and supporting innovation through intellectual property initiatives."
          },
          "metadata": {},
          "execution_count": 14
        }
      ],
      "source": [
        "response = chat_engine.chat(\"Tell me about the most recent accomplishments in the space sector\")\n",
        "Markdown(response.response)"
      ]
    },
    {
      "cell_type": "code",
      "execution_count": 15,
      "metadata": {
        "id": "n8xB0VhM1nz1",
        "colab": {
          "base_uri": "https://localhost:8080/",
          "height": 371
        },
        "outputId": "59eee567-ba7a-44ce-b58c-0f1d2a8c74f5"
      },
      "outputs": [
        {
          "output_type": "execute_result",
          "data": {
            "text/plain": [
              "<IPython.core.display.Markdown object>"
            ],
            "text/markdown": "Here are more details on the recent accomplishments in the space sector:\n\n1. **Commercial Space Capabilities for Weather Observation**:\n   - NOAA utilized commercial satellite data to enhance weather forecasts and support the development of commercial markets. This included ordering radio occultation satellite data to improve forecasting accuracy and effectiveness, as well as purchasing commercial satellite data for various requirements such as space weather, ocean surface winds, and microwave sounding.\n\n2. **Diversity and Opportunity in the Space Industry**:\n   - Initiatives were undertaken to broaden participation in the space industry workforce and supplier base. Efforts included collaborating with organizations focused on increasing diversity, equity, and inclusion, hosting events celebrating women and African American contributions to space, supporting fellowship programs, and forming partnerships to connect minority business enterprises to NASA opportunities.\n\n3. **Measuring the U.S. Space Economy**:\n   - The Bureau of Economic Analysis (BEA) quantified the U.S. space economy by publishing annual statistics that measured its contributions to GDP, employment, and other key measures. This data provides insights to inform decision makers in government and industry.\n\n4. **Supporting Space-Related Intellectual Property**:\n   - The U.S. Patent and Trademark Office (USPTO) supported commercial space innovation through stakeholder initiatives aimed at reducing barriers to the intellectual property landscape. This included working groups on accelerating commercial space innovation, IP seminars at the 2023 Paris Airshow, and an international dialogue focused on the intersection of IP and the expanding commercial space sector."
          },
          "metadata": {},
          "execution_count": 15
        }
      ],
      "source": [
        "response = chat_engine.chat(\"Can you expand on that?\")\n",
        "Markdown(response.response)"
      ]
    },
    {
      "cell_type": "code",
      "source": [
        "response = chat_engine.chat(\"Tell me more about international space business partnerships.\")\n",
        "Markdown(response.response)"
      ],
      "metadata": {
        "colab": {
          "base_uri": "https://localhost:8080/",
          "height": 116
        },
        "id": "HDVmQQnBp222",
        "outputId": "48db86a9-ba1b-4271-eb4e-2067201fc4f3"
      },
      "execution_count": 16,
      "outputs": [
        {
          "output_type": "execute_result",
          "data": {
            "text/plain": [
              "<IPython.core.display.Markdown object>"
            ],
            "text/markdown": "International space business partnerships involve the Department of Commerce organizing and leading international commercial space dialogues with multiple nations to promote business partnerships and strengthen diplomatic ties. The nations engaged in these dialogues include Australia, Canada, France, Germany, India, Japan, New Zealand, Philippines, Republic of Korea, Singapore, as well as nations from the African Union. Additionally, the International Trade Administration (ITA) promotes U.S. aerospace trade interests and manages active space-related cases to support contract wins worth billions of dollars, which in turn support thousands of U.S. jobs."
          },
          "metadata": {},
          "execution_count": 16
        }
      ]
    },
    {
      "cell_type": "markdown",
      "metadata": {
        "id": "WzYhOAjmnFSh"
      },
      "source": [
        "# VectorDB"
      ]
    },
    {
      "cell_type": "code",
      "execution_count": 17,
      "metadata": {
        "id": "1POjsVFSmEEV"
      },
      "outputs": [],
      "source": [
        "%%capture\n",
        "!pip install llama-index-vector-stores-weaviate"
      ]
    },
    {
      "cell_type": "code",
      "execution_count": 18,
      "metadata": {
        "id": "3bnu_wdunPjL"
      },
      "outputs": [],
      "source": [
        "%%capture\n",
        "!pip install llama-index-vector-stores-chroma"
      ]
    },
    {
      "cell_type": "code",
      "execution_count": 19,
      "metadata": {
        "id": "ZK_bCOJ1nUET"
      },
      "outputs": [],
      "source": [
        "import chromadb\n",
        "from llama_index.vector_stores.chroma import ChromaVectorStore\n",
        "from llama_index.core import StorageContext\n",
        "\n",
        "chroma_client = chromadb.PersistentClient()\n",
        "chroma_collection = chroma_client.create_collection(\"tech16example\")\n",
        "vector_store = ChromaVectorStore(chroma_collection=chroma_collection)\n",
        "storage_context = StorageContext.from_defaults(vector_store=vector_store)"
      ]
    },
    {
      "cell_type": "code",
      "execution_count": 20,
      "metadata": {
        "id": "_KuY9ncQ48f9",
        "colab": {
          "base_uri": "https://localhost:8080/"
        },
        "outputId": "eac00a75-5b39-4d06-9cfa-b62f34920884"
      },
      "outputs": [
        {
          "output_type": "stream",
          "name": "stderr",
          "text": [
            "Loading files: 100%|██████████| 1/1 [00:04<00:00,  4.99s/file]\n"
          ]
        }
      ],
      "source": [
        "from llama_index.core import VectorStoreIndex, SimpleDirectoryReader\n",
        "\n",
        "documents = SimpleDirectoryReader(\"./\").load_data(\"2021-2024-Space-Accomplishments\")\n",
        "index = VectorStoreIndex.from_documents(\n",
        "    documents, storage_context=storage_context\n",
        ")"
      ]
    },
    {
      "cell_type": "code",
      "execution_count": 21,
      "metadata": {
        "id": "ANrWE3Ct8E3F",
        "colab": {
          "base_uri": "https://localhost:8080/",
          "height": 81
        },
        "outputId": "ab88c733-aa64-4503-a6c4-ac06d9d20f29"
      },
      "outputs": [
        {
          "output_type": "execute_result",
          "data": {
            "text/plain": [
              "<IPython.core.display.Markdown object>"
            ],
            "text/markdown": "The US space economy is quantified by the Bureau of Economic Analysis (BEA) in terms of its contributions to GDP, employment, and other key measures. The US Patent and Trademark Office (USPTO) supports commercial space innovation through initiatives aimed at reducing barriers to the intellectual property landscape. The Bureau of Industry and Security (BIS) conducts assessments to provide insights into the health of the US space supply chain."
          },
          "metadata": {},
          "execution_count": 21
        }
      ],
      "source": [
        "chat_engine = index.as_chat_engine()\n",
        "response = chat_engine.chat(\"Tell me about US Space economy.\")\n",
        "Markdown(response.response)"
      ]
    },
    {
      "cell_type": "markdown",
      "metadata": {
        "id": "KCB6Hr7f99lJ"
      },
      "source": [
        "# Youtube Transcript Loader"
      ]
    },
    {
      "cell_type": "code",
      "execution_count": 22,
      "metadata": {
        "id": "26WfdGTQ-HJp"
      },
      "outputs": [],
      "source": [
        "%%capture\n",
        "!pip install llama-hub-youtube-transcript\n",
        "!pip install llama-index-readers-youtube-transcript"
      ]
    },
    {
      "cell_type": "code",
      "execution_count": 23,
      "metadata": {
        "id": "VwVG22Q28SCk"
      },
      "outputs": [],
      "source": [
        "from llama_index.readers.youtube_transcript import YoutubeTranscriptReader\n",
        "\n",
        "loader = YoutubeTranscriptReader()\n",
        "documents = loader.load_data(\n",
        "    ytlinks=[\"https://www.youtube.com/watch?v=1Ul2tR7qxqM\"]\n",
        ")"
      ]
    },
    {
      "cell_type": "code",
      "execution_count": 24,
      "metadata": {
        "id": "9fZGH8LR-Bt5",
        "colab": {
          "base_uri": "https://localhost:8080/",
          "height": 81
        },
        "outputId": "e25d0621-1b78-4fae-b678-44ca4607f343"
      },
      "outputs": [
        {
          "output_type": "execute_result",
          "data": {
            "text/plain": [
              "<IPython.core.display.Markdown object>"
            ],
            "text/markdown": "The James Webb Space Telescope has made several discoveries, including a hungry black hole in a dwarf galaxy, intricate details of galaxies interacting with each other, a giant asteroid emitting jets, a galaxy with gas brighter than its stars, a pair of galaxies crashing into each other, star-forming areas at the edge of the Milky Way, and many more fascinating findings."
          },
          "metadata": {},
          "execution_count": 24
        }
      ],
      "source": [
        "index = VectorStoreIndex.from_documents(documents)\n",
        "\n",
        "# Convert the VectorStoreIndex object into a query engine. This query engine can be used to\n",
        "# perform semantic searches on the index, matching natural language queries to the most relevant\n",
        "# documents in the index.\n",
        "chat_engine = index.as_chat_engine()\n",
        "\n",
        "# Use the query engine to search for documents that are relevant to the query\n",
        "# from the indexed documents based on the semantic understanding of the query.\n",
        "response = chat_engine.query(\"What has JWST discovered so far?\")\n",
        "\n",
        "# Print the response obtained from the query. This will display the result of the semantic search,\n",
        "# showing the information or documents that best match the query about the 2025 outlook.\n",
        "Markdown(response.response)"
      ]
    },
    {
      "cell_type": "code",
      "execution_count": 25,
      "metadata": {
        "id": "7h31CqYt-5BR",
        "colab": {
          "base_uri": "https://localhost:8080/",
          "height": 64
        },
        "outputId": "302e27ac-c349-4afb-827f-334d6b1a347c"
      },
      "outputs": [
        {
          "output_type": "execute_result",
          "data": {
            "text/plain": [
              "<IPython.core.display.Markdown object>"
            ],
            "text/markdown": "The most recent discoveries by the James Webb Space Telescope include capturing a detailed image of a mini Neptune exoplanet with a highly reflective atmosphere likely composed of water vapor, and providing a clear view of Neptune's rings and moons."
          },
          "metadata": {},
          "execution_count": 25
        }
      ],
      "source": [
        "response = chat_engine.chat(\"Give me details of the most recent discoveries.\")\n",
        "Markdown(response.response)"
      ]
    },
    {
      "cell_type": "code",
      "execution_count": 26,
      "metadata": {
        "id": "OPVO3N4hMzt8",
        "colab": {
          "base_uri": "https://localhost:8080/",
          "height": 81
        },
        "outputId": "c7767d72-42a2-464d-8ee8-76eaf5f94ab0"
      },
      "outputs": [
        {
          "output_type": "execute_result",
          "data": {
            "text/plain": [
              "<IPython.core.display.Markdown object>"
            ],
            "text/markdown": "The most recent discoveries by the James Webb Space Telescope include capturing a detailed image of a mini Neptune exoplanet located 40 light years from Earth. The planet has a highly reflective atmosphere likely composed of water vapor and a thick layer of clouds or haze. Additionally, JWST provided a clear view of Neptune's rings, showcasing the planet's narrow rings, fainter dust bands, and revealing seven of Neptune's 14 known moons."
          },
          "metadata": {},
          "execution_count": 26
        }
      ],
      "source": [
        "response = chat_engine.chat(\"Please include more details to your previous response.\")\n",
        "Markdown(response.response)"
      ]
    },
    {
      "cell_type": "markdown",
      "metadata": {
        "id": "K7xMBVRnOJrZ"
      },
      "source": [
        "## arXiv Reader\n",
        "Loading High Energy Astrophysics papers from arXiv into the Vector DB."
      ]
    },
    {
      "cell_type": "code",
      "execution_count": 27,
      "metadata": {
        "id": "RYAQTD-KW1fM"
      },
      "outputs": [],
      "source": [
        "%%capture\n",
        "!pip install llama-index-readers-papers"
      ]
    },
    {
      "cell_type": "code",
      "execution_count": 28,
      "metadata": {
        "id": "AsDc7hkBM_2h"
      },
      "outputs": [],
      "source": [
        "from llama_index.readers.papers import ArxivReader\n",
        "\n",
        "loader = ArxivReader()\n",
        "documents = loader.load_data(search_query=\"cat:astro-ph.HE\") # Category: High energy astrophysics"
      ]
    },
    {
      "cell_type": "code",
      "execution_count": 29,
      "metadata": {
        "id": "WTBbLFwjifLM"
      },
      "outputs": [],
      "source": [
        "chroma_client = chromadb.PersistentClient()\n",
        "chroma_collection = chroma_client.create_collection(\"astro_db\")\n",
        "vector_store = ChromaVectorStore(chroma_collection=chroma_collection)\n",
        "storage_context = StorageContext.from_defaults(vector_store=vector_store)"
      ]
    },
    {
      "cell_type": "code",
      "execution_count": 30,
      "metadata": {
        "id": "IGti4hETi7bZ"
      },
      "outputs": [],
      "source": [
        "index = VectorStoreIndex.from_documents(\n",
        "    documents, storage_context=storage_context\n",
        ")"
      ]
    },
    {
      "cell_type": "code",
      "execution_count": 31,
      "metadata": {
        "id": "dGVmpKc2jJ1x",
        "colab": {
          "base_uri": "https://localhost:8080/",
          "height": 116
        },
        "outputId": "5710c5e1-222a-4901-d4d9-4b2981ed3127"
      },
      "outputs": [
        {
          "output_type": "execute_result",
          "data": {
            "text/plain": [
              "<IPython.core.display.Markdown object>"
            ],
            "text/markdown": "Recent advancements in high-energy astrophysics include studies on high-energy neutrinos originating from astrophysical sources like gamma-ray bursts (GRBs). Researchers have been investigating the detection and analysis of high-energy neutrinos to understand the processes occurring in these extreme cosmic events. Additionally, there have been developments in the observation of high-energy gamma-ray photons produced in various astrophysical phenomena, shedding light on the high-energy processes in the universe. These breakthroughs contribute to our understanding of the most energetic events in the cosmos and the fundamental physics governing them."
          },
          "metadata": {},
          "execution_count": 31
        }
      ],
      "source": [
        "chat_engine = index.as_chat_engine()\n",
        "response = chat_engine.chat(\n",
        "    \"What are some of the latest breakthroughs in high energy astrophysics?\"\n",
        "    )\n",
        "Markdown(response.response)"
      ]
    },
    {
      "cell_type": "code",
      "execution_count": 32,
      "metadata": {
        "id": "0QfO6g6ijw_e",
        "colab": {
          "base_uri": "https://localhost:8080/",
          "height": 273
        },
        "outputId": "bd06a136-5e94-411d-c00b-e0dfe4cd8898"
      },
      "outputs": [
        {
          "output_type": "execute_result",
          "data": {
            "text/plain": [
              "<IPython.core.display.Markdown object>"
            ],
            "text/markdown": "In high-energy astrophysics, researchers have made significant progress in studying high-energy neutrinos that originate from astrophysical sources such as gamma-ray bursts (GRBs). Neutrinos are elusive subatomic particles that can provide valuable information about the extreme processes taking place in the universe. By detecting and analyzing high-energy neutrinos, scientists can gain insights into the mechanisms and conditions present in these cosmic events.\n\nGamma-ray bursts are among the most energetic phenomena in the universe, releasing intense bursts of gamma-ray radiation. Studying the high-energy neutrinos associated with GRBs can help researchers understand the underlying physics of these explosive events. Detecting neutrinos from GRBs can provide clues about the acceleration mechanisms, particle interactions, and energy transfer processes involved in these high-energy astrophysical phenomena.\n\nFurthermore, advancements in observing high-energy gamma-ray photons have also contributed to our understanding of astrophysical processes. Gamma-ray photons are emitted during various cosmic events, including supernova explosions, active galactic nuclei, and gamma-ray bursts. By studying these high-energy photons, scientists can investigate the sources of gamma-ray emission, the properties of the surrounding environments, and the dynamics of the high-energy processes occurring in the universe.\n\nOverall, the recent breakthroughs in high-energy astrophysics, particularly in the detection and analysis of high-energy neutrinos and gamma-ray photons, have provided valuable insights into the most energetic events in the cosmos. These advancements enhance our understanding of the fundamental physics governing the universe's extreme phenomena and contribute to unraveling the mysteries of high-energy astrophysical processes."
          },
          "metadata": {},
          "execution_count": 32
        }
      ],
      "source": [
        "response = chat_engine.chat(\n",
        "    \"Can you elaborate on that?\"\n",
        "    )\n",
        "Markdown(response.response)"
      ]
    }
  ],
  "metadata": {
    "colab": {
      "provenance": [],
      "authorship_tag": "ABX9TyNW5r0qzJrODNT9E3cvv5I8",
      "include_colab_link": true
    },
    "kernelspec": {
      "display_name": "Python 3",
      "name": "python3"
    },
    "language_info": {
      "name": "python"
    }
  },
  "nbformat": 4,
  "nbformat_minor": 0
}
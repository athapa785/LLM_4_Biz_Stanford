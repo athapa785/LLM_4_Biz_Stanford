{
  "nbformat": 4,
  "nbformat_minor": 0,
  "metadata": {
    "colab": {
      "provenance": [],
      "mount_file_id": "1eMLQa5bBN9jXzJf293wlNsht2NUP47yv",
      "authorship_tag": "ABX9TyO/gHXodV3kEwhgBFGDVoAq",
      "include_colab_link": true
    },
    "kernelspec": {
      "name": "python3",
      "display_name": "Python 3"
    },
    "language_info": {
      "name": "python"
    }
  },
  "cells": [
    {
      "cell_type": "markdown",
      "metadata": {
        "id": "view-in-github",
        "colab_type": "text"
      },
      "source": [
        "<a href=\"https://colab.research.google.com/github/athapa785/LLM_4_Biz_Stanford/blob/main/aditya_thapa_llm4biz_homework_1_compare_texts.ipynb\" target=\"_parent\"><img src=\"https://colab.research.google.com/assets/colab-badge.svg\" alt=\"Open In Colab\"/></a>"
      ]
    },
    {
      "cell_type": "markdown",
      "source": [
        "# [Aditya Thapa](https://www.linkedin.com/in/aditya-thapa-56442b11b/)\n",
        "SLAC National Accelerator Laboratory | Stanford University"
      ],
      "metadata": {
        "id": "p88LNapHznVi"
      }
    },
    {
      "cell_type": "markdown",
      "source": [
        "# Homework 1\n",
        "## LLM for Biz with Python\n",
        "Stanford Continuing Education\n",
        "TECH 16\n"
      ],
      "metadata": {
        "id": "urfX1Mwn0SEq"
      }
    },
    {
      "cell_type": "markdown",
      "source": [
        "The project is set up to perform text comparison and summarization using OpenAI's GPT-3.5 model. It can:\n",
        "\n",
        "> **Extract text from various sources:** It can extract text from web pages (using *extract_webpage_text*) and PDF files from a path or URL (using *extract_pdf_text*). It also accepts direct text input.\n",
        ">\n",
        ">**Summarize text:** It uses the summarize function to generate concise summaries of given texts, leveraging the GPT-3.5 model.\n",
        ">\n",
        ">**Compare texts:** The core functionality lies in the compare_texts function. It takes multiple text inputs, summarizes them individually, and then utilizes GPT-3.5 to identify and highlight significant differences between the texts.\n",
        ">\n",
        ">**Token Management:** It incorporates token counting (*num_tokens_from_string*) for efficient handling of input text within the OpenAI API's token limits.\n",
        "\n",
        "Essentially, the project provides a way to analyze and compare information from different sources, whether it's web pages, PDFs, or user-provided text, using the power of large language models for insightful comparisons."
      ],
      "metadata": {
        "id": "Hk_mz17Vwcwe"
      }
    },
    {
      "cell_type": "code",
      "execution_count": 144,
      "metadata": {
        "id": "w-F7mO0OU4yJ"
      },
      "outputs": [],
      "source": [
        "# Initialize key and client\n",
        "\n",
        "from openai import OpenAI\n",
        "from google.colab import userdata\n",
        "\n",
        "open_ai_key = userdata.get('open_ai_key')\n",
        "\n",
        "client = OpenAI(api_key=open_ai_key)"
      ]
    },
    {
      "cell_type": "code",
      "source": [
        "!pip install PyPDF2\n",
        "!pip install tiktoken\n",
        "!pip install validators"
      ],
      "metadata": {
        "colab": {
          "base_uri": "https://localhost:8080/"
        },
        "id": "nUhqeZChRDql",
        "outputId": "3810be11-5a23-401a-ad33-f738629d5741"
      },
      "execution_count": 145,
      "outputs": [
        {
          "output_type": "stream",
          "name": "stdout",
          "text": [
            "Requirement already satisfied: PyPDF2 in /usr/local/lib/python3.11/dist-packages (3.0.1)\n",
            "Requirement already satisfied: tiktoken in /usr/local/lib/python3.11/dist-packages (0.8.0)\n",
            "Requirement already satisfied: regex>=2022.1.18 in /usr/local/lib/python3.11/dist-packages (from tiktoken) (2024.11.6)\n",
            "Requirement already satisfied: requests>=2.26.0 in /usr/local/lib/python3.11/dist-packages (from tiktoken) (2.32.3)\n",
            "Requirement already satisfied: charset-normalizer<4,>=2 in /usr/local/lib/python3.11/dist-packages (from requests>=2.26.0->tiktoken) (3.4.1)\n",
            "Requirement already satisfied: idna<4,>=2.5 in /usr/local/lib/python3.11/dist-packages (from requests>=2.26.0->tiktoken) (3.10)\n",
            "Requirement already satisfied: urllib3<3,>=1.21.1 in /usr/local/lib/python3.11/dist-packages (from requests>=2.26.0->tiktoken) (2.3.0)\n",
            "Requirement already satisfied: certifi>=2017.4.17 in /usr/local/lib/python3.11/dist-packages (from requests>=2.26.0->tiktoken) (2024.12.14)\n",
            "Requirement already satisfied: validators in /usr/local/lib/python3.11/dist-packages (0.34.0)\n"
          ]
        }
      ]
    },
    {
      "cell_type": "code",
      "source": [
        "import PyPDF2 as PyPDF\n",
        "from  bs4 import BeautifulSoup\n",
        "import requests\n",
        "import tiktoken\n",
        "import validators\n",
        "from IPython.display import Markdown"
      ],
      "metadata": {
        "id": "t4eilXheqQap"
      },
      "execution_count": 154,
      "outputs": []
    },
    {
      "cell_type": "code",
      "source": [
        "def chat(sys_message, user_message):\n",
        "    \"\"\"\n",
        "    Send a message to the OpenAI GPT-3.5 model and return its response.\n",
        "\n",
        "    Parameters:\n",
        "    message (str): A string containing the user's message to the AI.\n",
        "\n",
        "    Returns:\n",
        "    str: The text response generated by the GPT-3.5 model.\n",
        "    \"\"\"\n",
        "\n",
        "    response = client.chat.completions.create(\n",
        "        model=\"gpt-3.5-turbo\",\n",
        "        messages=[\n",
        "            {\"role\": \"system\", \"content\": f\"{sys_message}\"},\n",
        "            {\"role\": \"user\", \"content\": f\"{user_message}\"}\n",
        "        ]\n",
        "    )\n",
        "\n",
        "    text_only = response.choices[0].message.content\n",
        "    return text_only"
      ],
      "metadata": {
        "id": "O_xTCUPTKksA"
      },
      "execution_count": 147,
      "outputs": []
    },
    {
      "cell_type": "code",
      "source": [
        "def extract_webpage_text(url):\n",
        "  \"\"\"\n",
        "  Extracts text from a webpage.\n",
        "\n",
        "  Parameters:\n",
        "  url (str): The URL of the webpage.\n",
        "\n",
        "  Returns:\n",
        "  str: The extracted text from the webpage.\n",
        "  \"\"\"\n",
        "  response = requests.get(url)\n",
        "  soup = BeautifulSoup(response.text, 'html.parser')\n",
        "  text = soup.get_text()\n",
        "  return text"
      ],
      "metadata": {
        "id": "MB9tu8ObMG11"
      },
      "execution_count": 148,
      "outputs": []
    },
    {
      "cell_type": "code",
      "source": [
        "# helper function to check if arg is a url or not\n",
        "\n",
        "def is_url(arg):\n",
        "  \"\"\"\n",
        "  Checks if a given argument is a URL.\n",
        "\n",
        "  Parameters:\n",
        "  arg (str): The argument to be checked.\n",
        "\n",
        "  Returns:\n",
        "  bool: True if the argument is a URL, False otherwise.\n",
        "\n",
        "  \"\"\"\n",
        "\n",
        "  result = validators.url(arg)\n",
        "\n",
        "  if result:\n",
        "    return True\n",
        "  else:\n",
        "    return False\n"
      ],
      "metadata": {
        "id": "jVk9FrrwelkA"
      },
      "execution_count": 149,
      "outputs": []
    },
    {
      "cell_type": "code",
      "source": [
        "def extract_pdf_text(pdf_path):\n",
        "  \"\"\"\n",
        "  Extracts text from a PDF file.\n",
        "\n",
        "  Parameters:\n",
        "  pdf_path (str): The path to the PDF file.\n",
        "\n",
        "  Returns:\n",
        "  str: The extracted text from the PDF.\n",
        "  \"\"\"\n",
        "\n",
        "  #Checking if URL\n",
        "  if is_url(pdf_path):\n",
        "    response = requests.get(pdf_path)\n",
        "    with open(\"temp.pdf\", \"wb\") as f:\n",
        "      f.write(response.content)\n",
        "      pdf_path = \"temp.pdf\"\n",
        "  else:\n",
        "    pdf_path = pdf_path\n",
        "\n",
        "  # Open file and extract text\n",
        "  with open(pdf_path, 'rb') as pdf_file:\n",
        "    pdf_reader = PyPDF.PdfReader(pdf_file)\n",
        "    text = \"\"\n",
        "    for page_num in range(len(pdf_reader.pages)):\n",
        "      page = pdf_reader.pages[page_num]\n",
        "      text += page.extract_text()\n",
        "    return text"
      ],
      "metadata": {
        "id": "IW7emMsSMFAf"
      },
      "execution_count": 150,
      "outputs": []
    },
    {
      "cell_type": "code",
      "source": [
        "def num_tokens_from_string(string, encoding_name=\"cl100k_base\"):\n",
        "  \"\"\"Returns the number of tokens in a text string.\"\"\"\n",
        "  encoding = tiktoken.get_encoding(encoding_name)\n",
        "  num_tokens = len(encoding.encode(string))\n",
        "  return num_tokens"
      ],
      "metadata": {
        "id": "zE7roya2LY5A"
      },
      "execution_count": 151,
      "outputs": []
    },
    {
      "cell_type": "code",
      "source": [
        "def summarize(text, max_tokens=2048):\n",
        "  \"\"\"\n",
        "  Summarizes a given text using OpenAI GPT-3.5, limiting the input text size.\n",
        "\n",
        "  Parameters:\n",
        "  text (str): The text to be summarized.\n",
        "  max_tokens (int): The maximum number of tokens allowed for the input text.\n",
        "\n",
        "  Returns:\n",
        "  str: The summarized text.\n",
        "  \"\"\"\n",
        "  # Limit the input text size to prevent exceeding token limits\n",
        "  text_tokens = num_tokens_from_string(text)\n",
        "  if text_tokens > max_tokens:\n",
        "    text = text[:max_tokens * 4] # Assume roughly 4 chars per token\n",
        "\n",
        "  sys_message = f\"You are an AI that takes instructions from a human and produces an answer. Try to capture as many details as you can in a short paragraph.\"\n",
        "  user_message = f\"Summarize this text: {text}\"\n",
        "  return chat(sys_message, user_message)"
      ],
      "metadata": {
        "id": "IWUh8vYcrWBr"
      },
      "execution_count": 165,
      "outputs": []
    },
    {
      "cell_type": "code",
      "source": [
        "def compare_texts(*args):\n",
        "  \"\"\"\n",
        "  Compares two pieces of texts using OpenAI GPT-3.5.\n",
        "\n",
        "  Parameters: Texts to be compared\n",
        "\n",
        "  \"\"\"\n",
        "  summary = []\n",
        "  i = 1\n",
        "\n",
        "  for arg in args:\n",
        "    summary.append(summarize(arg))\n",
        "\n",
        "  texts = \"\"\n",
        "  for text in summary:\n",
        "    texts += f\"({i})\" + text + \";\"\n",
        "\n",
        "\n",
        "  sys_message = \"\"\"\n",
        "                  You will be provided numbered bodies of texts separated by a semicolon.\n",
        "                  You will compare the bodies of text for important differences. Be analytical with your response.\n",
        "                  Make it readable with bullet points with headings.\n",
        "                \"\"\"\n",
        "  user_message = f\"{texts}\"\n",
        "\n",
        "  return chat(sys_message, user_message)"
      ],
      "metadata": {
        "id": "hYfPAa7xa1B9"
      },
      "execution_count": 166,
      "outputs": []
    },
    {
      "cell_type": "markdown",
      "source": [
        "# Let's try out an example."
      ],
      "metadata": {
        "id": "6dnNirlD2g-S"
      }
    },
    {
      "cell_type": "code",
      "source": [
        "text1 = extract_webpage_text(\"https://aws.amazon.com/what-is/quantum-computing/#:~:text=Quantum%20computing%20is%20a%20multidisciplinary,hardware%20research%20and%20application%20development.\")\n",
        "text2 = extract_pdf_text(\"https://cs269q.stanford.edu/lectures/lecture1.pdf\")\n",
        "text3 = \"Quantum computing is going to be the next big thing after LLMs.\"\n",
        "text4 = extract_webpage_text(\"https://en.wikipedia.org/wiki/Quantum_computing\")"
      ],
      "metadata": {
        "id": "ZzKa3VMXnjsY"
      },
      "execution_count": 167,
      "outputs": []
    },
    {
      "cell_type": "markdown",
      "source": [
        "### Summary of each:"
      ],
      "metadata": {
        "id": "RmtuhHk3DFaD"
      }
    },
    {
      "cell_type": "code",
      "source": [
        "Markdown(summarize(text1))"
      ],
      "metadata": {
        "colab": {
          "base_uri": "https://localhost:8080/",
          "height": 133
        },
        "id": "RsufzuN4DETY",
        "outputId": "58da5a1b-753c-4d1f-af12-474ef0eafddf"
      },
      "execution_count": 168,
      "outputs": [
        {
          "output_type": "execute_result",
          "data": {
            "text/plain": [
              "<IPython.core.display.Markdown object>"
            ],
            "text/markdown": "Quantum computing involves utilizing principles of quantum mechanics to solve complex problems at a faster pace than traditional computers. This multidisciplinary field combines computer science, physics, and mathematics to leverage quantum effects like superposition and quantum interference for enhanced computational power. Quantum bits, or qubits, are fundamental units in quantum computing, unlike classical bits, and operate based on quantum principles like superposition, entanglement, and decoherence. Quantum computers consist of hardware components such as qubits and control mechanisms, as well as quantum software that implements specialized algorithms. Despite the current limitations, quantum computing shows promise in transforming industries like machine learning, optimization, and simulations that are impractical for classical computers."
          },
          "metadata": {},
          "execution_count": 168
        }
      ]
    },
    {
      "cell_type": "code",
      "source": [
        "Markdown(summarize(text2))"
      ],
      "metadata": {
        "colab": {
          "base_uri": "https://localhost:8080/",
          "height": 133
        },
        "id": "XXnHgOR-DP6p",
        "outputId": "fe10ed5b-a9b7-4f18-a8f2-7e806239cf11"
      },
      "execution_count": 169,
      "outputs": [
        {
          "output_type": "execute_result",
          "data": {
            "text/plain": [
              "<IPython.core.display.Markdown object>"
            ],
            "text/markdown": "The text outlines a course on quantum computer programming by Dan Boneh and Will Zeng, focusing on challenging traditional computation methods and quantum physics to prepare students for a new discipline and industry. The course details include online lectures, problem sets, programming projects, and readings, with topics covering quantum mechanics, programming, algorithms, and hardware. It emphasizes the exponential power growth of quantum computing compared to classical systems and explores the relationship between physics and computer science, as well as the hybrid nature of quantum programming. The content also delves into the potentials for quantum computing in various fields like artificial intelligence, energy, and materials science, highlighting the accelerating development of quantum hardware globally."
          },
          "metadata": {},
          "execution_count": 169
        }
      ]
    },
    {
      "cell_type": "code",
      "source": [
        "Markdown(summarize(text3))"
      ],
      "metadata": {
        "colab": {
          "base_uri": "https://localhost:8080/",
          "height": 46
        },
        "id": "efYytjBMDYAe",
        "outputId": "9fcacac7-2615-472a-f80f-73418ce0ee58"
      },
      "execution_count": 170,
      "outputs": [
        {
          "output_type": "execute_result",
          "data": {
            "text/plain": [
              "<IPython.core.display.Markdown object>"
            ],
            "text/markdown": "The text predicts that quantum computing will be the next significant development after Large Language Models (LLMs) in technology."
          },
          "metadata": {},
          "execution_count": 170
        }
      ]
    },
    {
      "cell_type": "code",
      "source": [
        "Markdown(summarize(text4))"
      ],
      "metadata": {
        "colab": {
          "base_uri": "https://localhost:8080/",
          "height": 133
        },
        "id": "xxARHnGVDZTW",
        "outputId": "0215a449-5c9b-4d91-d80c-dcdcedbd938a"
      },
      "execution_count": 171,
      "outputs": [
        {
          "output_type": "execute_result",
          "data": {
            "text/plain": [
              "<IPython.core.display.Markdown object>"
            ],
            "text/markdown": "The text discusses quantum computing, a field that leverages quantum mechanical phenomena to perform computations exponentially faster than classical computers. It explains that quantum computers use qubits (quantum bits) that can exist in a superposition of states, allowing for faster calculations through wave interference effects. However, the current state of quantum computing is largely experimental due to challenges in engineering high-quality qubits that are isolated from their environment to prevent quantum decoherence. The text also explores the history of quantum computing, from the convergence of quantum mechanics and computer science to the development of quantum algorithms that demonstrate the potential applications of quantum computers, such as breaking encryption schemes like RSA."
          },
          "metadata": {},
          "execution_count": 171
        }
      ]
    },
    {
      "cell_type": "markdown",
      "source": [
        "### Let's first try comparing the first two."
      ],
      "metadata": {
        "id": "Js04bxpt8JHm"
      }
    },
    {
      "cell_type": "code",
      "source": [
        "Markdown(compare_texts(text1, text2))"
      ],
      "metadata": {
        "colab": {
          "base_uri": "https://localhost:8080/",
          "height": 734
        },
        "id": "LWyDPyA2uhE9",
        "outputId": "b1d3af64-fe1a-4d15-9928-26e71d8c2672"
      },
      "execution_count": 174,
      "outputs": [
        {
          "output_type": "execute_result",
          "data": {
            "text/plain": [
              "<IPython.core.display.Markdown object>"
            ],
            "text/markdown": "### Differences Between the Bodies of Texts:\n\n#### Content Focus:\n- **First Body of Text:**\n  - Focuses on the broad field of quantum computing as a whole.\n  - Discusses the potential applications and challenges of quantum computing.\n  - Mentions key principles of quantum mechanics and the components of a quantum computer.\n  \n- **Second Body of Text:**\n  - Specifically discusses a course at Stanford University on Quantum Computer Programming.\n  - Emphasizes the teaching of quantum mechanics and programming projects related to quantum computing.\n  - Highlights the exponential growth and hybrid nature of quantum-classical computing.\n\n#### Approach:\n- **First Body of Text:**\n  - Provides an overview of quantum computing technologies and their potential.\n  - Mentions AWS's support for advancing quantum computing technologies.\n  \n- **Second Body of Text:**\n  - Focuses on the educational aspect of quantum computing through a course.\n  - Emphasizes understanding quantum computers in various practical applications and industries.\n  \n#### Emphasis:\n- **First Body of Text:**\n  - Emphasizes the advanced applications and benefits of quantum computing, looking at the field from a technological standpoint.\n  \n- **Second Body of Text:**\n  - Emphasizes the educational aspect of quantum computing and its importance in various fields, focusing more on the academic and practical implications of quantum technology.\n  \n#### Key Takeaways:\n- **First Body of Text:**\n  - Highlights the significance of quantum mechanics, qubits, and quantum effects in computing.\n  - Points out the potential for solving complex problems currently beyond classical computers' capabilities.\n  \n- **Second Body of Text:**\n  - Stresses the importance of understanding quantum computing through practical programming projects.\n  - Focuses on the increasing interest in quantum technology in academia and industry."
          },
          "metadata": {},
          "execution_count": 174
        }
      ]
    },
    {
      "cell_type": "markdown",
      "source": [
        "### Let's see how it does while comparing all four"
      ],
      "metadata": {
        "id": "YGoGlVL68MbH"
      }
    },
    {
      "cell_type": "code",
      "source": [
        "Markdown(compare_texts(text1, text2, text3, text4))"
      ],
      "metadata": {
        "colab": {
          "base_uri": "https://localhost:8080/",
          "height": 669
        },
        "id": "8qL0nslrg_-8",
        "outputId": "0de80dfd-c311-4736-e70f-036219e309e1"
      },
      "execution_count": 173,
      "outputs": [
        {
          "output_type": "execute_result",
          "data": {
            "text/plain": [
              "<IPython.core.display.Markdown object>"
            ],
            "text/markdown": "### Differences in Texts Discussing Quantum Computing:\n\n#### **Focus of Discussion:**\n- The first text talks about the multidisciplinary nature of quantum computing, key components, current performance comparison with classical computers, and various applications.\n- The second text discusses a specific course on Quantum Computer Programming, covering topics like quantum mechanics, low-level programming, and hybrid algorithms.\n- The third text suggests the emergence of quantum computing as a significant technological advancement after LLMs.\n- The fourth text covers the basics of quantum computing, challenges in building practical quantum computers, the history of quantum computing, and potential exponential speed advantages of quantum computers over classical ones.\n\n#### **Content Covered:**\n- The first text covers quantum effects like superposition and entanglement, qubits, quantum principles, applications, and \"quantum advantage.\"\n- The second text focuses on programming quantum computers, hybrid quantum/classical computing approaches, and learning \"just enough\" quantum physics.\n- The third text hints at the growth of quantum computing post LLMs (Large Language Models) without specifying how.\n- The fourth text delves into the basics, history, challenges, and speed advantages of quantum computing compared to classical computers.\n\n#### **Applications and Importance:**\n- The first text mentions applications like machine learning, optimization, and simulating physical systems to solve currently impossible problems.\n- The second text underscores the importance of quantum computing in providing new opportunities, fundamental curiosity, and how to program quantum computers.\n- The third text does not specify applications but suggests significant advancement after LLMs.\n- The fourth text mentions the potential exponential speed advantage of quantum computers over classical ones in solving certain computational problems.\n\n#### **Level of Detail:**\n- The first text provides a broad overview of quantum computing with key components and applications.\n- The second text delves into programming quantum computers and specific topics covered in a course.\n- The third text is more abstract, hinting at future advancements without detailed specifics.\n- The fourth text offers a detailed explanation of the basics, history, challenges, and speed advantages of quantum computing.\n\n#### **Perspectives on Quantum Computing:**\n- The first three texts focus more on the practical aspects of quantum computing like programming, potential advancements, and key components.\n- The fourth text takes a more historical and technical approach, discussing the development of quantum algorithms and speed advantages over classical computers."
          },
          "metadata": {},
          "execution_count": 173
        }
      ]
    },
    {
      "cell_type": "markdown",
      "source": [
        "---"
      ],
      "metadata": {
        "id": "2aUZvk2J8dMD"
      }
    },
    {
      "cell_type": "markdown",
      "source": [
        "Feel free to change the existing URLs or add more bodies of texts."
      ],
      "metadata": {
        "id": "OQ-QDuE_8RTc"
      }
    }
  ]
}
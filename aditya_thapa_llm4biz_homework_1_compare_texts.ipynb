{
  "nbformat": 4,
  "nbformat_minor": 0,
  "metadata": {
    "colab": {
      "provenance": [],
      "mount_file_id": "1eMLQa5bBN9jXzJf293wlNsht2NUP47yv",
      "authorship_tag": "ABX9TyOeCpzLRYO5mEQIQOh8jLzq",
      "include_colab_link": true
    },
    "kernelspec": {
      "name": "python3",
      "display_name": "Python 3"
    },
    "language_info": {
      "name": "python"
    }
  },
  "cells": [
    {
      "cell_type": "markdown",
      "metadata": {
        "id": "view-in-github",
        "colab_type": "text"
      },
      "source": [
        "<a href=\"https://colab.research.google.com/github/athapa785/LLM_4_Biz_Stanford/blob/main/aditya_thapa_llm4biz_homework_1_compare_texts.ipynb\" target=\"_parent\"><img src=\"https://colab.research.google.com/assets/colab-badge.svg\" alt=\"Open In Colab\"/></a>"
      ]
    },
    {
      "cell_type": "markdown",
      "source": [
        "# [Aditya Thapa](https://www.linkedin.com/in/aditya-thapa-56442b11b/)\n",
        "SLAC National Accelerator Laboratory | Stanford University"
      ],
      "metadata": {
        "id": "p88LNapHznVi"
      }
    },
    {
      "cell_type": "markdown",
      "source": [
        "# Homework 1\n",
        "## LLM for Biz with Python\n",
        "Stanford Continuing Education\n",
        "TECH 16\n"
      ],
      "metadata": {
        "id": "urfX1Mwn0SEq"
      }
    },
    {
      "cell_type": "markdown",
      "source": [
        "The project is set up to perform text comparison and summarization using OpenAI's GPT-3.5 model. It can:\n",
        "\n",
        "> **Extract text from various sources:** It can extract text from web pages (using *extract_webpage_text*) and PDF files from a path or URL (using *extract_pdf_text*). It also accepts direct text input.\n",
        ">\n",
        ">**Summarize text:** It uses the summarize function to generate concise summaries of given texts, leveraging the GPT-3.5 model.\n",
        ">\n",
        ">**Compare texts:** The core functionality lies in the compare_texts function. It takes multiple text inputs, summarizes them individually, and then utilizes GPT-3.5 to identify and highlight significant differences between the texts.\n",
        ">\n",
        ">**Token Management:** It incorporates token counting (*num_tokens_from_string*) for efficient handling of input text within the OpenAI API's token limits.\n",
        "\n",
        "Essentially, the project provides a way to analyze and compare information from different sources, whether it's web pages, PDFs, or user-provided text, using the power of large language models for insightful comparisons."
      ],
      "metadata": {
        "id": "Hk_mz17Vwcwe"
      }
    },
    {
      "cell_type": "code",
      "execution_count": 97,
      "metadata": {
        "id": "w-F7mO0OU4yJ"
      },
      "outputs": [],
      "source": [
        "# Initialize key and client\n",
        "\n",
        "from openai import OpenAI\n",
        "from google.colab import userdata\n",
        "\n",
        "open_ai_key = userdata.get('open_ai_key')\n",
        "\n",
        "client = OpenAI(api_key=open_ai_key)"
      ]
    },
    {
      "cell_type": "code",
      "source": [
        "!pip install PyPDF2\n",
        "!pip install tiktoken\n",
        "!pip install validators"
      ],
      "metadata": {
        "colab": {
          "base_uri": "https://localhost:8080/"
        },
        "id": "nUhqeZChRDql",
        "outputId": "0535bd1f-fd0d-46cd-f59e-b575544e5423"
      },
      "execution_count": 100,
      "outputs": [
        {
          "output_type": "stream",
          "name": "stdout",
          "text": [
            "Requirement already satisfied: PyPDF2 in /usr/local/lib/python3.11/dist-packages (3.0.1)\n",
            "Requirement already satisfied: tiktoken in /usr/local/lib/python3.11/dist-packages (0.8.0)\n",
            "Requirement already satisfied: regex>=2022.1.18 in /usr/local/lib/python3.11/dist-packages (from tiktoken) (2024.11.6)\n",
            "Requirement already satisfied: requests>=2.26.0 in /usr/local/lib/python3.11/dist-packages (from tiktoken) (2.32.3)\n",
            "Requirement already satisfied: charset-normalizer<4,>=2 in /usr/local/lib/python3.11/dist-packages (from requests>=2.26.0->tiktoken) (3.4.1)\n",
            "Requirement already satisfied: idna<4,>=2.5 in /usr/local/lib/python3.11/dist-packages (from requests>=2.26.0->tiktoken) (3.10)\n",
            "Requirement already satisfied: urllib3<3,>=1.21.1 in /usr/local/lib/python3.11/dist-packages (from requests>=2.26.0->tiktoken) (2.3.0)\n",
            "Requirement already satisfied: certifi>=2017.4.17 in /usr/local/lib/python3.11/dist-packages (from requests>=2.26.0->tiktoken) (2024.12.14)\n",
            "Requirement already satisfied: validators in /usr/local/lib/python3.11/dist-packages (0.34.0)\n"
          ]
        }
      ]
    },
    {
      "cell_type": "code",
      "source": [
        "import PyPDF2 as PyPDF\n",
        "from  bs4 import BeautifulSoup\n",
        "import requests\n",
        "import tiktoken\n",
        "import validators\n",
        "import textwrap"
      ],
      "metadata": {
        "id": "t4eilXheqQap"
      },
      "execution_count": 101,
      "outputs": []
    },
    {
      "cell_type": "code",
      "source": [
        "def chat(sys_message, user_message):\n",
        "    \"\"\"\n",
        "    Send a message to the OpenAI GPT-3.5 model and return its response.\n",
        "\n",
        "    Parameters:\n",
        "    message (str): A string containing the user's message to the AI.\n",
        "\n",
        "    Returns:\n",
        "    str: The text response generated by the GPT-3.5 model.\n",
        "    \"\"\"\n",
        "\n",
        "    response = client.chat.completions.create(\n",
        "        model=\"gpt-3.5-turbo\",\n",
        "        messages=[\n",
        "            {\"role\": \"system\", \"content\": f\"{sys_message}\"},\n",
        "            {\"role\": \"user\", \"content\": f\"{user_message}\"}\n",
        "        ]\n",
        "    )\n",
        "\n",
        "    text_only = response.choices[0].message.content\n",
        "    return text_only"
      ],
      "metadata": {
        "id": "O_xTCUPTKksA"
      },
      "execution_count": 102,
      "outputs": []
    },
    {
      "cell_type": "code",
      "source": [
        "def extract_webpage_text(url):\n",
        "  \"\"\"\n",
        "  Extracts text from a webpage.\n",
        "\n",
        "  Parameters:\n",
        "  url (str): The URL of the webpage.\n",
        "\n",
        "  Returns:\n",
        "  str: The extracted text from the webpage.\n",
        "  \"\"\"\n",
        "  response = requests.get(url)\n",
        "  soup = BeautifulSoup(response.text, 'html.parser')\n",
        "  text = soup.get_text()\n",
        "  return text"
      ],
      "metadata": {
        "id": "MB9tu8ObMG11"
      },
      "execution_count": 103,
      "outputs": []
    },
    {
      "cell_type": "code",
      "source": [
        "# helper function to check if arg is a url or not\n",
        "\n",
        "def is_url(arg):\n",
        "  \"\"\"\n",
        "  Checks if a given argument is a URL.\n",
        "\n",
        "  Parameters:\n",
        "  arg (str): The argument to be checked.\n",
        "\n",
        "  Returns:\n",
        "  bool: True if the argument is a URL, False otherwise.\n",
        "\n",
        "  \"\"\"\n",
        "\n",
        "  result = validators.url(arg)\n",
        "\n",
        "  if result:\n",
        "    return True\n",
        "  else:\n",
        "    return False\n"
      ],
      "metadata": {
        "id": "jVk9FrrwelkA"
      },
      "execution_count": 104,
      "outputs": []
    },
    {
      "cell_type": "code",
      "source": [
        "def extract_pdf_text(pdf_path):\n",
        "  \"\"\"\n",
        "  Extracts text from a PDF file.\n",
        "\n",
        "  Parameters:\n",
        "  pdf_path (str): The path to the PDF file.\n",
        "\n",
        "  Returns:\n",
        "  str: The extracted text from the PDF.\n",
        "  \"\"\"\n",
        "\n",
        "  #Checking if URL\n",
        "  if is_url(pdf_path):\n",
        "    response = requests.get(pdf_path)\n",
        "    with open(\"temp.pdf\", \"wb\") as f:\n",
        "      f.write(response.content)\n",
        "      pdf_path = \"temp.pdf\"\n",
        "  else:\n",
        "    pdf_path = pdf_path\n",
        "\n",
        "  # Open file and extract text\n",
        "  with open(pdf_path, 'rb') as pdf_file:\n",
        "    pdf_reader = PyPDF.PdfReader(pdf_file)\n",
        "    text = \"\"\n",
        "    for page_num in range(len(pdf_reader.pages)):\n",
        "      page = pdf_reader.pages[page_num]\n",
        "      text += page.extract_text()\n",
        "    return text"
      ],
      "metadata": {
        "id": "IW7emMsSMFAf"
      },
      "execution_count": 105,
      "outputs": []
    },
    {
      "cell_type": "code",
      "source": [
        "def num_tokens_from_string(string, encoding_name=\"cl100k_base\"):\n",
        "  \"\"\"Returns the number of tokens in a text string.\"\"\"\n",
        "  encoding = tiktoken.get_encoding(encoding_name)\n",
        "  num_tokens = len(encoding.encode(string))\n",
        "  return num_tokens"
      ],
      "metadata": {
        "id": "zE7roya2LY5A"
      },
      "execution_count": 106,
      "outputs": []
    },
    {
      "cell_type": "code",
      "source": [
        "def summarize(text, max_tokens=2048):\n",
        "  \"\"\"\n",
        "  Summarizes a given text using OpenAI GPT-3.5, limiting the input text size.\n",
        "\n",
        "  Parameters:\n",
        "  text (str): The text to be summarized.\n",
        "  max_tokens (int): The maximum number of tokens allowed for the input text.\n",
        "\n",
        "  Returns:\n",
        "  str: The summarized text.\n",
        "  \"\"\"\n",
        "  # Limit the input text size to prevent exceeding token limits\n",
        "  text_tokens = num_tokens_from_string(text)\n",
        "  if text_tokens > max_tokens:\n",
        "    text = text[:max_tokens * 4] # Assume roughly 4 chars per token\n",
        "\n",
        "  sys_message = f\"You are an AI that takes instructions from a human and produces an answer. Be concise in your output.\"\n",
        "  user_message = f\"Summarize this text: {text}\"\n",
        "  return chat(sys_message, user_message)"
      ],
      "metadata": {
        "id": "IWUh8vYcrWBr"
      },
      "execution_count": 107,
      "outputs": []
    },
    {
      "cell_type": "code",
      "source": [
        "def compare_texts(*args):\n",
        "  \"\"\"\n",
        "  Compares two pieces of texts using OpenAI GPT-3.5.\n",
        "\n",
        "  Parameters: Texts to be compared\n",
        "\n",
        "  \"\"\"\n",
        "  summary = []\n",
        "  i = 1\n",
        "\n",
        "  for arg in args:\n",
        "    summary.append(summarize(arg))\n",
        "\n",
        "  texts = \"\"\n",
        "  for text in summary:\n",
        "    texts += f\"({i})\" + text + \";\"\n",
        "\n",
        "\n",
        "  sys_message = \"\"\"\n",
        "                  You will be provided numbered bodies of texts separated by a semicolon.\n",
        "                  You will compare the bodies of text. Be analytical with your response.\n",
        "                  Make it readable with bullet points with headings.\n",
        "                \"\"\"\n",
        "  user_message = f\"{texts}\"\n",
        "\n",
        "  return chat(sys_message, user_message)"
      ],
      "metadata": {
        "id": "hYfPAa7xa1B9"
      },
      "execution_count": 140,
      "outputs": []
    },
    {
      "cell_type": "markdown",
      "source": [
        "# Let's try out an example."
      ],
      "metadata": {
        "id": "6dnNirlD2g-S"
      }
    },
    {
      "cell_type": "code",
      "source": [
        "text1 = extract_webpage_text(\"https://aws.amazon.com/what-is/quantum-computing/#:~:text=Quantum%20computing%20is%20a%20multidisciplinary,hardware%20research%20and%20application%20development.\")\n",
        "text2 = extract_pdf_text(\"https://cs269q.stanford.edu/lectures/lecture1.pdf\")\n",
        "text3 = \"Quantum computing is going to be the next big thing after LLMs.\"\n",
        "text4 = extract_webpage_text(\"https://en.wikipedia.org/wiki/Quantum_computing\")"
      ],
      "metadata": {
        "id": "ZzKa3VMXnjsY"
      },
      "execution_count": 114,
      "outputs": []
    },
    {
      "cell_type": "markdown",
      "source": [
        "Let's first try comparing the first two."
      ],
      "metadata": {
        "id": "Js04bxpt8JHm"
      }
    },
    {
      "cell_type": "code",
      "source": [
        "print(compare_texts(text1, text2))"
      ],
      "metadata": {
        "colab": {
          "base_uri": "https://localhost:8080/"
        },
        "id": "LWyDPyA2uhE9",
        "outputId": "1a46bfff-9abd-479a-b98b-15a3b00d5211"
      },
      "execution_count": 141,
      "outputs": [
        {
          "output_type": "stream",
          "name": "stdout",
          "text": [
            "### Comparison of Texts on Quantum Computing:\n",
            "\n",
            "#### Topics Covered:\n",
            "- Text 1 focuses on providing detailed explanations of quantum computing, including its advantages, principles, components, and types of technology.\n",
            "- Text 2 describes an online course, CS269 Quantum Computer Programming, which takes a programming-first approach to quantum computing. It covers quantum mechanics, operations, hybrid algorithms, and error correction.\n",
            "\n",
            "#### Focus:\n",
            "- Text 1 emphasizes how quantum computing utilizes principles from quantum mechanics like qubits, superposition, entanglement, and decoherence to solve problems faster than classical computers.\n",
            "- Text 2 highlights the new power, opportunities, and fundamental curiosity associated with quantum computing, as well as its potential to solve complex problems with exponential scalability.\n",
            "\n",
            "#### Approach:\n",
            "- Text 1 provides a theoretical overview of quantum computing principles and technologies.\n",
            "- Text 2 focuses on a practical approach to quantum computing through problem sets, programming projects, and a hybrid quantum/classical computing approach.\n",
            "\n",
            "#### Learning Objectives:\n",
            "- Text 1 aims to explain the underlying concepts of quantum computing in detail.\n",
            "- Text 2 aims to teach students quantum computer programming skills with an emphasis on practical applications.\n",
            "\n",
            "#### Overall Tone:\n",
            "- Text 1 has a more technical and explanatory tone, focused on understanding the theoretical aspects of quantum computing.\n",
            "- Text 2 has a practical and hands-on tone, emphasizing the application of quantum computing principles through programming exercises. \n",
            "\n",
            "#### Conclusion:\n",
            "- Text 1 is more focused on explaining the theoretical foundations of quantum computing, while Text 2 is geared towards teaching quantum programming skills with a practical approach.\n",
            "- Both texts highlight the potential of quantum computing to solve complex problems more efficiently than classical computers, but they do so from different angles - theoretical understanding versus practical application.\n",
            "\n"
          ]
        }
      ]
    },
    {
      "cell_type": "markdown",
      "source": [
        "Let's see how it does while comparing all four"
      ],
      "metadata": {
        "id": "YGoGlVL68MbH"
      }
    },
    {
      "cell_type": "code",
      "source": [
        "print(compare_texts(text1, text2, text3, text4))"
      ],
      "metadata": {
        "colab": {
          "base_uri": "https://localhost:8080/"
        },
        "id": "8qL0nslrg_-8",
        "outputId": "26a3df8b-d304-433b-c830-0b67ef9e965d"
      },
      "execution_count": 142,
      "outputs": [
        {
          "output_type": "stream",
          "name": "stdout",
          "text": [
            "### Comparison of Text Bodies:\n",
            "\n",
            "#### Overview:\n",
            "- Text (1) provides a general overview of quantum computing, its components, principles, and applications.\n",
            "- Text (2) focuses on a specific course, CS269, centered around Quantum Computer Programming with a programming-first approach.\n",
            "- Text (3) briefly mentions quantum computing as a significant development post-LLMs.\n",
            "- Text (4) delves deeper into quantum computing, explaining its benefits, components, challenges, and historical context.\n",
            "\n",
            "#### Topics Discussed:\n",
            "- Text (1) covers quantum mechanics, qubits, superposition, entanglement, decoherence, quantum algorithms, quantum hardware and software.\n",
            "- Text (2) mentions problem sets, programming projects, hybrid quantum/classical computing, practical applications, and the exponential scaling power of quantum computing.\n",
            "- Text (3) connects quantum computing with being the next significant development after LLMs.\n",
            "- Text (4) discusses qubits, quantum algorithms, challenges in engineering quantum computers, the potential of quantum supremacy, and historical developments.\n",
            "\n",
            "#### Depth of Explanation:\n",
            "- Text (1) provides a broad introduction to quantum computing and its key components and principles.\n",
            "- Text (2) focuses on a specific course, detailing its structure and objectives regarding quantum computer programming.\n",
            "- Text (3) offers a concise statement linking quantum computing to a significant progress post-LLMs.\n",
            "- Text (4) goes deeper, discussing quantum computing's advantages, challenges, and historical context.\n",
            "\n",
            "#### Perspective:\n",
            "- Text (1) presents a general perspective on quantum computing and its applications.\n",
            "- Text (2) offers a detailed view from the angle of a specific course on Quantum Computer Programming.\n",
            "- Text (3) indicates a view of quantum computing in relation to LLMs.\n",
            "- Text (4) provides a more analytical perspective, discussing benefits, challenges, and historical developments in quantum computing.\n",
            "\n",
            "#### Conclusion:\n",
            "- The texts collectively offer a range of perspectives, from general introductions to detailed analyses, contributing to a well-rounded understanding of quantum computing and its significance.\n"
          ]
        }
      ]
    },
    {
      "cell_type": "markdown",
      "source": [
        "---"
      ],
      "metadata": {
        "id": "2aUZvk2J8dMD"
      }
    },
    {
      "cell_type": "markdown",
      "source": [
        "Feel free to change the existing URLs or add more bodies of texts."
      ],
      "metadata": {
        "id": "OQ-QDuE_8RTc"
      }
    }
  ]
}
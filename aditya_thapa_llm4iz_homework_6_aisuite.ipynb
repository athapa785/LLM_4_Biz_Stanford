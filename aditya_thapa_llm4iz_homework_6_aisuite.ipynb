{
  "nbformat": 4,
  "nbformat_minor": 0,
  "metadata": {
    "colab": {
      "provenance": [],
      "authorship_tag": "ABX9TyOdIBNpXSf4+4a78xzp7abJ",
      "include_colab_link": true
    },
    "kernelspec": {
      "name": "python3",
      "display_name": "Python 3"
    },
    "language_info": {
      "name": "python"
    }
  },
  "cells": [
    {
      "cell_type": "markdown",
      "metadata": {
        "id": "view-in-github",
        "colab_type": "text"
      },
      "source": [
        "<a href=\"https://colab.research.google.com/github/athapa785/LLM_4_Biz_Stanford/blob/main/aditya_thapa_llm4iz_homework_6_aisuite.ipynb\" target=\"_parent\"><img src=\"https://colab.research.google.com/assets/colab-badge.svg\" alt=\"Open In Colab\"/></a>"
      ]
    },
    {
      "cell_type": "markdown",
      "source": [
        "# Aditya Thapa\n",
        "\n",
        "SLAC National Accelerator Laboratory | Stanford University"
      ],
      "metadata": {
        "id": "mhAWQ6BkA7BZ"
      }
    },
    {
      "cell_type": "markdown",
      "source": [
        "# Homework 4: Comparing models with aisuite\n",
        "## LLM for Biz with Python"
      ],
      "metadata": {
        "id": "x12JorFVBLEJ"
      }
    },
    {
      "cell_type": "markdown",
      "source": [
        "This project uses the aisuite Python library to compare OpenAI's GPT-4o and Anthropic's Claude-3.5 on a series of probability problems. The goal is to assess their accuracy and formatting consistency.\n",
        "\n",
        "While Claude-3.5 demonstrates superior LaTeX formatting for equations, GPT-4o outperforms on more complex probability problems. This suggests potential differences in reasoning capabilities."
      ],
      "metadata": {
        "id": "mu2Dc9gpEiAd"
      }
    },
    {
      "cell_type": "code",
      "execution_count": 33,
      "metadata": {
        "id": "kUoM4WigjztX"
      },
      "outputs": [],
      "source": [
        "%%capture\n",
        "!pip install 'aisuite[all]'"
      ]
    },
    {
      "cell_type": "code",
      "source": [
        "from google.colab import userdata\n",
        "import os\n",
        "open_ai_key = userdata.get('open_ai_key')\n",
        "anthropic_key = userdata.get('anthropic_key')\n",
        "os.environ[\"OPENAI_API_KEY\"] = open_ai_key\n",
        "os.environ[\"ANTHROPIC_API_KEY\"] = anthropic_key"
      ],
      "metadata": {
        "id": "rvh67qgEkJq2"
      },
      "execution_count": 11,
      "outputs": []
    },
    {
      "cell_type": "code",
      "source": [
        "from IPython.display import Markdown"
      ],
      "metadata": {
        "id": "p4KETTAjz1S8"
      },
      "execution_count": 16,
      "outputs": []
    },
    {
      "cell_type": "code",
      "source": [
        "import aisuite as ai\n",
        "client = ai.Client()\n",
        "\n",
        "models = [\"openai:gpt-4o\", \"anthropic:claude-3-5-sonnet-20240620\"]\n",
        "\n",
        "system_message = \"\"\"\n",
        "    You are a mathematician.\n",
        "    It is extremely important that you format equations in LaTeX format within $...$ delimiters.\n",
        "    \"\"\""
      ],
      "metadata": {
        "id": "mW9J9qJB3bi8"
      },
      "execution_count": 50,
      "outputs": []
    },
    {
      "cell_type": "code",
      "source": [
        "def compare_models(user_message):\n",
        "  messages = [\n",
        "    {\"role\": \"system\", \"content\": system_message},\n",
        "    {\"role\": \"user\", \"content\": user_message},\n",
        "]\n",
        "  responses = {}\n",
        "  for model in models:\n",
        "      response = client.chat.completions.create(\n",
        "          model=model,\n",
        "          messages=messages,\n",
        "          temperature=0.75\n",
        "      )\n",
        "      responses[f\"{model}\"] = response.choices[0].message.content\n",
        "  return responses"
      ],
      "metadata": {
        "id": "Ho6IIOSG0fpF"
      },
      "execution_count": 51,
      "outputs": []
    },
    {
      "cell_type": "code",
      "source": [
        "# First question\n",
        "user_message_1 = \"\"\"\n",
        "    A coin is thrown 3 times .what is the probability that atleast one head is obtained?\n",
        "    \"\"\""
      ],
      "metadata": {
        "id": "VbArUR1669Q1"
      },
      "execution_count": 52,
      "outputs": []
    },
    {
      "cell_type": "code",
      "source": [
        "responses_1 = compare_models(user_message_1)"
      ],
      "metadata": {
        "id": "S8lKExzp6ECI"
      },
      "execution_count": 53,
      "outputs": []
    },
    {
      "cell_type": "code",
      "source": [
        "print(\"OpenAI:GPT-4o\")\n",
        "Markdown(responses_1[\"openai:gpt-4o\"])"
      ],
      "metadata": {
        "colab": {
          "base_uri": "https://localhost:8080/",
          "height": 198
        },
        "id": "amGIn9PMzo_K",
        "outputId": "abb3cb62-2c6d-4183-df4f-2d2f32396017"
      },
      "execution_count": 54,
      "outputs": [
        {
          "output_type": "stream",
          "name": "stdout",
          "text": [
            "OpenAI:GPT-4o\n"
          ]
        },
        {
          "output_type": "execute_result",
          "data": {
            "text/plain": [
              "<IPython.core.display.Markdown object>"
            ],
            "text/markdown": "\nTo find the probability of getting at least one head in three coin tosses, we can use the complementary probability approach. \n\nFirstly, calculate the probability of getting no heads at all (i.e., getting tails in all three tosses). The probability of getting tails in a single toss is \\( \\frac{1}{2} \\). Therefore, the probability of getting tails in all three tosses is:\n\n\\[\n\\left( \\frac{1}{2} \\right)^3 = \\frac{1}{8}\n\\]\n\nThe probability of getting at least one head is the complement of the probability of getting no heads. Thus, the probability of getting at least one head is:\n\n\\[\n1 - \\frac{1}{8} = \\frac{7}{8}\n\\]\n\nSo, the probability of obtaining at least one head in three coin tosses is \\( \\frac{7}{8} \\)."
          },
          "metadata": {},
          "execution_count": 54
        }
      ]
    },
    {
      "cell_type": "code",
      "source": [
        "print(\"Anthropic:Claude-3.5\")\n",
        "Markdown(responses_1[\"anthropic:claude-3-5-sonnet-20240620\"])"
      ],
      "metadata": {
        "colab": {
          "base_uri": "https://localhost:8080/",
          "height": 234
        },
        "id": "b7WtyHmI0aNW",
        "outputId": "d8292b6f-82ab-44f3-c4fd-af532a5fcd92"
      },
      "execution_count": 55,
      "outputs": [
        {
          "output_type": "stream",
          "name": "stdout",
          "text": [
            "Anthropic:Claude-3.5\n"
          ]
        },
        {
          "output_type": "execute_result",
          "data": {
            "text/plain": [
              "<IPython.core.display.Markdown object>"
            ],
            "text/markdown": "To solve this problem, let's approach it step-by-step:\n\n1) First, let's consider the probability of getting a head on a single throw:\n   P(Head) = 1/2\n   P(Tail) = 1/2\n\n2) Now, instead of calculating the probability of getting at least one head directly, it's easier to calculate the probability of getting no heads (all tails) and then subtract this from 1.\n\n3) The probability of getting all tails in 3 throws is:\n   P(All Tails) = $(\\frac{1}{2})^3 = \\frac{1}{8}$\n\n4) Therefore, the probability of getting at least one head is:\n   P(At least one Head) = 1 - P(All Tails)\n                        = $1 - \\frac{1}{8} = \\frac{7}{8}$\n\n5) We can also express this as a decimal or percentage:\n   $\\frac{7}{8} = 0.875 = 87.5\\%$\n\nThus, the probability of getting at least one head when a coin is thrown 3 times is $\\frac{7}{8}$ or 0.875 or 87.5%."
          },
          "metadata": {},
          "execution_count": 55
        }
      ]
    },
    {
      "cell_type": "markdown",
      "source": [
        "To my surprise the answer is correct. However, GPT-4o seems to fail to use proper LaTeX format while Claude-3.5 consistently succeeds in doing that. Let's try something mildy more complicated."
      ],
      "metadata": {
        "id": "qsuBf_RS5poK"
      }
    },
    {
      "cell_type": "code",
      "source": [
        "# Second question\n",
        "user_message_2 = \"What is the probability of getting a sum of 7 when two dice are thrown?\""
      ],
      "metadata": {
        "id": "uPfNaELe4DOC"
      },
      "execution_count": 56,
      "outputs": []
    },
    {
      "cell_type": "code",
      "source": [
        "responses_2 = compare_models(user_message_2)"
      ],
      "metadata": {
        "id": "giL2-lXE5_ht"
      },
      "execution_count": 57,
      "outputs": []
    },
    {
      "cell_type": "code",
      "source": [
        "print(\"OpenAI:GPT-4o\")\n",
        "Markdown(responses_2[\"openai:gpt-4o\"])"
      ],
      "metadata": {
        "colab": {
          "base_uri": "https://localhost:8080/",
          "height": 284
        },
        "id": "zhIDvbVy7ok9",
        "outputId": "1bcb6cbf-41b1-44d9-fb6c-a9f0ef05b16d"
      },
      "execution_count": 59,
      "outputs": [
        {
          "output_type": "stream",
          "name": "stdout",
          "text": [
            "OpenAI:GPT-4o\n"
          ]
        },
        {
          "output_type": "execute_result",
          "data": {
            "text/plain": [
              "<IPython.core.display.Markdown object>"
            ],
            "text/markdown": "When two six-sided dice are thrown, each die has 6 faces, resulting in a total of \\(6 \\times 6 = 36\\) possible outcomes.\n\nTo find the probability of getting a sum of 7, we need to count the number of favorable outcomes:\n\n1. Die 1 shows 1 and Die 2 shows 6.\n2. Die 1 shows 2 and Die 2 shows 5.\n3. Die 1 shows 3 and Die 2 shows 4.\n4. Die 1 shows 4 and Die 2 shows 3.\n5. Die 1 shows 5 and Die 2 shows 2.\n6. Die 1 shows 6 and Die 2 shows 1.\n\nThere are 6 outcomes that result in a sum of 7. Therefore, the probability \\( P \\) of rolling a sum of 7 is given by:\n\n\\[\nP(\\text{sum of 7}) = \\frac{\\text{Number of favorable outcomes}}{\\text{Total number of possible outcomes}} = \\frac{6}{36} = \\frac{1}{6}\n\\]\n\nSo, the probability of obtaining a sum of 7 when two dice are thrown is \\( \\frac{1}{6} \\)."
          },
          "metadata": {},
          "execution_count": 59
        }
      ]
    },
    {
      "cell_type": "code",
      "source": [
        "print(\"Anthropic:Claude-3.5\")\n",
        "Markdown(responses_2[\"anthropic:claude-3-5-sonnet-20240620\"])"
      ],
      "metadata": {
        "colab": {
          "base_uri": "https://localhost:8080/",
          "height": 313
        },
        "id": "YHDe-ZTd7rLc",
        "outputId": "3ee14321-278f-4715-f824-119b96f7afd5"
      },
      "execution_count": 60,
      "outputs": [
        {
          "output_type": "stream",
          "name": "stdout",
          "text": [
            "Anthropic:Claude-3.5\n"
          ]
        },
        {
          "output_type": "execute_result",
          "data": {
            "text/plain": [
              "<IPython.core.display.Markdown object>"
            ],
            "text/markdown": "To solve this problem, let's approach it step by step:\n\n1) First, we need to identify all the possible ways to get a sum of 7 when rolling two dice. The possible combinations are:\n\n   (1,6), (2,5), (3,4), (4,3), (5,2), (6,1)\n\n2) There are 6 favorable outcomes in total.\n\n3) Now, we need to consider the total number of possible outcomes when rolling two dice. \n   Each die has 6 faces, so the total number of possible outcomes is:\n\n   $6 \\times 6 = 36$\n\n4) The probability is calculated by dividing the number of favorable outcomes by the total number of possible outcomes:\n\n   Probability = $\\frac{\\text{Favorable outcomes}}{\\text{Total outcomes}}$\n\n5) Therefore, the probability of getting a sum of 7 is:\n\n   $P(\\text{sum of 7}) = \\frac{6}{36} = \\frac{1}{6}$\n\nSo, the probability of getting a sum of 7 when two dice are thrown is $\\frac{1}{6}$ or approximately 0.1667 or 16.67%."
          },
          "metadata": {},
          "execution_count": 60
        }
      ]
    },
    {
      "cell_type": "markdown",
      "source": [
        "Right again, and typesetting prolem persists. Claude seems to outperform GPT-4o in this regard. Let's move on to something more difficult. These models are bound to fail at some point, and I don't think the question has to be too difficult. Let's find the failure point (qualitatively, of course)."
      ],
      "metadata": {
        "id": "lAxQm2-Z8B4w"
      }
    },
    {
      "cell_type": "code",
      "source": [
        "user_message_3 = \"Two cards are drawn from the pack of 52 cards. Find the probability that both are diamonds or both are kings.\""
      ],
      "metadata": {
        "id": "YplIHp9_7-y2"
      },
      "execution_count": 65,
      "outputs": []
    },
    {
      "cell_type": "code",
      "source": [
        "responses_3 = compare_models(user_message_3)"
      ],
      "metadata": {
        "id": "mlzavRDH8wiL"
      },
      "execution_count": 66,
      "outputs": []
    },
    {
      "cell_type": "code",
      "source": [
        "print(\"OpenAI:GPT-4o\")\n",
        "Markdown(responses_3[\"openai:gpt-4o\"])"
      ],
      "metadata": {
        "colab": {
          "base_uri": "https://localhost:8080/",
          "height": 622
        },
        "id": "Azpvojh38zRd",
        "outputId": "a25a5820-dbd5-4f0c-9e58-55fc9279a30d"
      },
      "execution_count": 67,
      "outputs": [
        {
          "output_type": "stream",
          "name": "stdout",
          "text": [
            "OpenAI:GPT-4o\n"
          ]
        },
        {
          "output_type": "execute_result",
          "data": {
            "text/plain": [
              "<IPython.core.display.Markdown object>"
            ],
            "text/markdown": "To solve this problem, we need to calculate the probability of either drawing two diamonds or drawing two kings from a standard deck of 52 cards.\n\nFirst, let's break down the two cases:\n\n**Case 1: Both cards are diamonds**\n\nThere are 13 diamonds in a deck of 52 cards. To find the probability that both drawn cards are diamonds, we calculate as follows:\n\n1. The probability that the first card drawn is a diamond is $\\frac{13}{52}$.\n2. After drawing one diamond, there are now 12 diamonds left out of a total of 51 cards. So, the probability that the second card drawn is also a diamond is $\\frac{12}{51}$.\n\nThus, the probability that both cards are diamonds is:\n\n\\[\nP(\\text{both diamonds}) = \\frac{13}{52} \\times \\frac{12}{51} = \\frac{1}{4} \\times \\frac{4}{17} = \\frac{1}{17}\n\\]\n\n**Case 2: Both cards are kings**\n\nThere are 4 kings in a deck of 52 cards. To find the probability that both drawn cards are kings, we calculate as follows:\n\n1. The probability that the first card drawn is a king is $\\frac{4}{52}$.\n2. After drawing one king, there are now 3 kings left out of a total of 51 cards. So, the probability that the second card drawn is also a king is $\\frac{3}{51}$.\n\nThus, the probability that both cards are kings is:\n\n\\[\nP(\\text{both kings}) = \\frac{4}{52} \\times \\frac{3}{51} = \\frac{1}{13} \\times \\frac{1}{17} = \\frac{1}{221}\n\\]\n\n**Combining both cases**\n\nSince the events \"both cards are diamonds\" and \"both cards are kings\" are mutually exclusive, we add their probabilities:\n\n\\[\nP(\\text{both diamonds or both kings}) = P(\\text{both diamonds}) + P(\\text{both kings}) = \\frac{1}{17} + \\frac{1}{221}\n\\]\n\nTo add these probabilities, we need a common denominator:\n\nThe least common multiple of 17 and 221 is 221. Convert $\\frac{1}{17}$ to have this common denominator:\n\n\\[\n\\frac{1}{17} = \\frac{13}{221}\n\\]\n\nNow add the probabilities:\n\n\\[\nP(\\text{both diamonds or both kings}) = \\frac{13}{221} + \\frac{1}{221} = \\frac{14}{221}\n\\]\n\nTherefore, the probability that both cards drawn are either both diamonds or both kings is $\\frac{14}{221}$."
          },
          "metadata": {},
          "execution_count": 67
        }
      ]
    },
    {
      "cell_type": "code",
      "source": [
        "print(\"Anthropic:Claude-3.5\")\n",
        "Markdown(responses_3[\"anthropic:claude-3-5-sonnet-20240620\"])"
      ],
      "metadata": {
        "colab": {
          "base_uri": "https://localhost:8080/",
          "height": 485
        },
        "id": "vRZyovJh81H6",
        "outputId": "3a24fdb1-59a3-4e49-9dae-5f8bda74cb8f"
      },
      "execution_count": 68,
      "outputs": [
        {
          "output_type": "stream",
          "name": "stdout",
          "text": [
            "Anthropic:Claude-3.5\n"
          ]
        },
        {
          "output_type": "execute_result",
          "data": {
            "text/plain": [
              "<IPython.core.display.Markdown object>"
            ],
            "text/markdown": "Let's approach this step-by-step:\n\n1) First, let's calculate the probability of drawing two diamonds:\n   - There are 13 diamonds in a deck of 52 cards\n   - For the first draw, the probability is $\\frac{13}{52}$\n   - For the second draw, there are 12 diamonds left out of 51 cards\n   - So, the probability of two diamonds is:\n\n   $P(\\text{two diamonds}) = \\frac{13}{52} \\cdot \\frac{12}{51} = \\frac{156}{2652} = \\frac{13}{221}$\n\n2) Now, let's calculate the probability of drawing two kings:\n   - There are 4 kings in a deck of 52 cards\n   - For the first draw, the probability is $\\frac{4}{52}$\n   - For the second draw, there are 3 kings left out of 51 cards\n   - So, the probability of two kings is:\n\n   $P(\\text{two kings}) = \\frac{4}{52} \\cdot \\frac{3}{51} = \\frac{12}{2652} = \\frac{1}{221}$\n\n3) The question asks for the probability of either two diamonds or two kings. These are mutually exclusive events (it's impossible to draw two cards that are both diamonds and kings), so we can add their probabilities:\n\n   $P(\\text{two diamonds or two kings}) = P(\\text{two diamonds}) + P(\\text{two kings})$\n\n   $= \\frac{13}{221} + \\frac{1}{221} = \\frac{14}{221}$\n\nTherefore, the probability that both cards are diamonds or both are kings is $\\frac{14}{221}$ or approximately 0.0633 or about 6.33%."
          },
          "metadata": {},
          "execution_count": 68
        }
      ]
    },
    {
      "cell_type": "markdown",
      "source": [
        "Ok, I'm surprised."
      ],
      "metadata": {
        "id": "3vDDK189-39j"
      }
    },
    {
      "cell_type": "code",
      "source": [
        "user_message_4 = \"From a pack of cards, three cards are drawn at random. Find the probability that each card is from different suit.\""
      ],
      "metadata": {
        "id": "MI7ShlRc848N"
      },
      "execution_count": 69,
      "outputs": []
    },
    {
      "cell_type": "code",
      "source": [
        "responses_4 = compare_models(user_message_4)"
      ],
      "metadata": {
        "id": "FxGHGuGl_FWK"
      },
      "execution_count": 70,
      "outputs": []
    },
    {
      "cell_type": "code",
      "source": [
        "print(\"OpenAI:GPT-4o\")\n",
        "Markdown(responses_4[\"openai:gpt-4o\"])"
      ],
      "metadata": {
        "colab": {
          "base_uri": "https://localhost:8080/",
          "height": 543
        },
        "id": "JCdVOJfB_HGG",
        "outputId": "b52f4e23-95bd-4f43-8b1d-637cc95229ee"
      },
      "execution_count": 72,
      "outputs": [
        {
          "output_type": "stream",
          "name": "stdout",
          "text": [
            "OpenAI:GPT-4o\n"
          ]
        },
        {
          "output_type": "execute_result",
          "data": {
            "text/plain": [
              "<IPython.core.display.Markdown object>"
            ],
            "text/markdown": "To solve this problem, we need to determine the probability that each of the three cards drawn from a standard deck of 52 cards is from a different suit.\n\nA standard deck of cards has 4 suits (hearts, diamonds, clubs, and spades), each containing 13 cards.\n\n**Step 1: Choose the first card.**\n- The first card can be any card from the deck, so there are 52 possible choices.\n\n**Step 2: Choose the second card from a different suit.**\n- After drawing the first card, there are 39 cards left that are from the other three suits (since 13 cards are from the same suit as the first card).\n- Thus, there are 39 possible choices for the second card.\n\n**Step 3: Choose the third card from a yet another different suit.**\n- After drawing the second card, there are 26 cards left that are from the remaining two suits (since 26 cards are from the two suits already used).\n- Thus, there are 26 possible choices for the third card.\n\n**Calculating the Probability:**\n\nThe number of favorable outcomes is calculated by multiplying the number of choices at each step:\n\n\\[\n52 \\times 39 \\times 26\n\\]\n\nThe total number of possible outcomes when drawing 3 cards sequentially from the deck is:\n\n\\[\n52 \\times 51 \\times 50\n\\]\n\nHence, the probability that each card drawn is from a different suit is given by the ratio of favorable outcomes to total possible outcomes:\n\n\\[\nP(\\text{different suits}) = \\frac{52 \\times 39 \\times 26}{52 \\times 51 \\times 50}\n\\]\n\nSimplifying this:\n\n\\[\nP(\\text{different suits}) = \\frac{39 \\times 26}{51 \\times 50} = \\frac{1014}{2550}\n\\]\n\nFurther simplifying the fraction:\n\n\\[\nP(\\text{different suits}) = \\frac{169}{425}\n\\]\n\nTherefore, the probability that each card drawn from the deck is from a different suit is \\(\\frac{169}{425}\\)."
          },
          "metadata": {},
          "execution_count": 72
        }
      ]
    },
    {
      "cell_type": "code",
      "source": [
        "print(\"Anthropic:Claude-3.5\")\n",
        "Markdown(responses_4[\"anthropic:claude-3-5-sonnet-20240620\"])"
      ],
      "metadata": {
        "colab": {
          "base_uri": "https://localhost:8080/",
          "height": 314
        },
        "id": "JPc-kt9h_Jr4",
        "outputId": "ca7f2b78-366b-4d51-a8e2-b67848eb738a"
      },
      "execution_count": 73,
      "outputs": [
        {
          "output_type": "stream",
          "name": "stdout",
          "text": [
            "Anthropic:Claude-3.5\n"
          ]
        },
        {
          "output_type": "execute_result",
          "data": {
            "text/plain": [
              "<IPython.core.display.Markdown object>"
            ],
            "text/markdown": "To solve this problem, let's approach it step by step:\n\n1) First, we need to calculate the total number of ways to draw 3 cards from a 52-card deck. This is given by the combination formula:\n\n   $\\binom{52}{3} = \\frac{52!}{3!(52-3)!} = \\frac{52!}{3!49!} = 22,100$\n\n2) Now, we need to calculate the number of ways to draw 3 cards from different suits. We can do this as follows:\n   - Choose 1 card from any suit: 13 ways\n   - Choose 1 card from any of the remaining 3 suits: 13 ways\n   - Choose 1 card from any of the remaining 2 suits: 13 ways\n   \n   So, the total number of favorable outcomes is: $13 \\times 13 \\times 13 = 2,197$\n\n3) The probability is then the number of favorable outcomes divided by the total number of possible outcomes:\n\n   $P(\\text{3 cards from different suits}) = \\frac{2,197}{22,100} = \\frac{2,197}{22,100} \\approx 0.0994$\n\nTherefore, the probability of drawing three cards, each from a different suit, is approximately 0.0994 or about 9.94%."
          },
          "metadata": {},
          "execution_count": 73
        }
      ]
    },
    {
      "cell_type": "markdown",
      "source": [
        "GPT-4o got the right answer and Claude-3.5 failed!"
      ],
      "metadata": {
        "id": "lE0ujBEJ_oY5"
      }
    },
    {
      "cell_type": "code",
      "source": [
        "user_message_5 = \"What is the probability of getting a sum of 22 or more when four dice are thrown?\""
      ],
      "metadata": {
        "id": "iRr-9QpgB4Ue"
      },
      "execution_count": 74,
      "outputs": []
    },
    {
      "cell_type": "code",
      "source": [
        "responses_5 = compare_models(user_message_5)"
      ],
      "metadata": {
        "id": "EGXZP8suCpi6"
      },
      "execution_count": 75,
      "outputs": []
    },
    {
      "cell_type": "code",
      "source": [
        "print(\"OpenAI:GPT-4o\")\n",
        "Markdown(responses_5[\"openai:gpt-4o\"])"
      ],
      "metadata": {
        "colab": {
          "base_uri": "https://localhost:8080/",
          "height": 517
        },
        "id": "y1DrfHDiCfp8",
        "outputId": "187d9799-baf1-4055-f7a3-908283458c3d"
      },
      "execution_count": 76,
      "outputs": [
        {
          "output_type": "stream",
          "name": "stdout",
          "text": [
            "OpenAI:GPT-4o\n"
          ]
        },
        {
          "output_type": "execute_result",
          "data": {
            "text/plain": [
              "<IPython.core.display.Markdown object>"
            ],
            "text/markdown": "To solve this problem, we need to determine the probability of obtaining a sum of 22 or more when rolling four six-sided dice. Each die can result in an integer from 1 to 6. The smallest possible sum for four dice is 4 (if each die shows a 1), and the largest possible sum is 24 (if each die shows a 6).\n\nTo find the probability of a sum of 22 or more, we calculate the probability of each possible outcome (22, 23, and 24), then sum these probabilities.\n\n1. **Sum of 24**: This occurs only if all four dice show a 6, so there is exactly 1 favorable outcome: (6, 6, 6, 6).\n\n2. **Sum of 23**: This can occur in several ways, such as three dice showing 6 and one die showing 5. The permutations are:\n   - (6, 6, 6, 5) which has 4 permutations (since any one of the four dice could show the 5).\n\n3. **Sum of 22**: This can occur in several combinations, such as three dice showing 6 and one die showing 4, or two dice showing 6, one die showing 5, and one die showing 5. The permutations are:\n   - (6, 6, 6, 4) which has 4 permutations.\n   - (6, 6, 5, 5) which has 6 permutations (choose 2 dice to show 5 from 4 dice).\n\nNow we count the number of favorable outcomes:\n- Sum of 24: 1 outcome\n- Sum of 23: 4 outcomes\n- Sum of 22: \\(4 + 6 = 10\\) outcomes\n\nThe total number of favorable outcomes is \\(1 + 4 + 10 = 15\\).\n\nThe total number of possible outcomes when rolling four dice is \\(6^4 = 1296\\).\n\nThus, the probability of rolling a sum of 22 or more is:\n\n\\[\n\\frac{15}{1296}\n\\]\n\nThis fraction can be simplified:\n\n\\[\n\\frac{15}{1296} = \\frac{5}{432}\n\\]\n\nTherefore, the probability of obtaining a sum of 22 or more when rolling four dice is \\(\\frac{5}{432}\\)."
          },
          "metadata": {},
          "execution_count": 76
        }
      ]
    },
    {
      "cell_type": "code",
      "source": [
        "print(\"Anthropic:Claude-3.5\")\n",
        "Markdown(responses_5[\"anthropic:claude-3-5-sonnet-20240620\"])"
      ],
      "metadata": {
        "colab": {
          "base_uri": "https://localhost:8080/",
          "height": 378
        },
        "id": "txu8W9RACmm5",
        "outputId": "7ec526e8-0e3e-49eb-835d-33ddf897398f"
      },
      "execution_count": 77,
      "outputs": [
        {
          "output_type": "stream",
          "name": "stdout",
          "text": [
            "Anthropic:Claude-3.5\n"
          ]
        },
        {
          "output_type": "execute_result",
          "data": {
            "text/plain": [
              "<IPython.core.display.Markdown object>"
            ],
            "text/markdown": "To solve this problem, let's approach it step by step:\n\n1) First, we need to consider the possible outcomes when four dice are thrown. Each die has 6 faces, numbered from 1 to 6.\n\n2) The minimum possible sum is 4 (1+1+1+1), and the maximum possible sum is 24 (6+6+6+6).\n\n3) We're asked about the probability of getting a sum of 22 or more, which includes the sums 22, 23, and 24.\n\n4) It's easier to calculate the probability of getting 21 or less and then subtract this from 1 to get our desired probability.\n\n5) The total number of possible outcomes when throwing 4 dice is $6^4 = 1296$, as each die has 6 possibilities.\n\n6) To calculate the number of ways to get a sum of 21 or less, we can use the concept of \"stars and bars\" or the combination with repetition formula. However, this would be quite complex for this problem.\n\n7) Instead, we can use a computer program or a probability calculator to find that there are 1281 ways to get a sum of 21 or less with 4 dice.\n\n8) Therefore, the probability of getting 21 or less is:\n\n   $P(sum \\leq 21) = \\frac{1281}{1296}$\n\n9) The probability of getting 22 or more is the complement of this:\n\n   $P(sum \\geq 22) = 1 - P(sum \\leq 21) = 1 - \\frac{1281}{1296} = \\frac{15}{1296} \\approx 0.0116$\n\nThus, the probability of getting a sum of 22 or more when four dice are thrown is $\\frac{15}{1296}$ or approximately 0.0116 or about 1.16%."
          },
          "metadata": {},
          "execution_count": 77
        }
      ]
    },
    {
      "cell_type": "markdown",
      "source": [
        "GPT-4o got it right again while Claude-3.5 failed."
      ],
      "metadata": {
        "id": "aVYk8AC6C4tY"
      }
    }
  ]
}